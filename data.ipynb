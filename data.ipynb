{
 "cells": [
  {
   "cell_type": "code",
   "execution_count": 1,
   "metadata": {},
   "outputs": [],
   "source": [
    "import pandas as pd"
   ]
  },
  {
   "cell_type": "code",
   "execution_count": 60,
   "metadata": {},
   "outputs": [],
   "source": [
    "# contoh penggunaan \n",
    "\n",
    "# some_string = \"\"\"create table some_table (\n",
    "#     col1 INT(10),\n",
    "#     col2 INT(10)\n",
    "# )\"\"\""
   ]
  },
  {
   "cell_type": "code",
   "execution_count": 58,
   "metadata": {},
   "outputs": [],
   "source": [
    "\n",
    "some_string = \"\"\"create table customers (\n",
    "    customerNumber INT(16) PRIMARY KEY NOT NULL,\n",
    "    customerName VARCHAR(60),\n",
    "    contactLastName VARCHAR(30),\n",
    "    contactFirstName VARCHAR(30),\n",
    "    phone VARCHAR(16),\n",
    "    addressLine1 VARCHAR(128),\n",
    "    addressLine2 VARCHAR(128),\n",
    "    city VARCHAR(30),\n",
    "    state_location VARCHAR(60),\n",
    "    country VARCHAR(60),\n",
    "    postalCode INT(10),\n",
    "    salesRepEmployeeNumber INT(16),\n",
    "    creditLimit INT(16),\n",
    "    FOREIGN KEY(salesRepEmployeeNumber) REFERENCES employees(employeeNumber) \n",
    ")\"\"\"\n",
    "a = some_string.split(\"\\n\")[0]\n",
    "b = some_string.split(\"\\n\")[1:-1]\n",
    "d = pd.DataFrame()\n",
    "all_ref = []\n",
    "for line in b:\n",
    "    if \"FOREIGN KEY\" in line.upper():\n",
    "        all_ref.append(line.strip().split(\" \")[1].replace(\"KEY\",\"\").removeprefix(\"(\").removesuffix(\")\"))\n",
    "\n",
    "for line in b:\n",
    "    if \"FOREIGN KEY\" in line.upper():\n",
    "        continue\n",
    "\n",
    "    line_in_list = line.strip().split(\" \")\n",
    "    col_name = line_in_list[0]\n",
    "    type_of = line_in_list[1]\n",
    "\n",
    "    if \"PRIMARY KEY\" in line.upper(): \n",
    "        if \"INT\" in type_of.upper():\n",
    "            d[col_name] = range(1,11)\n",
    "        elif \"VARCHAR\" in type_of.upper():\n",
    "            d[col_name] = [\"a\",\"b\",\"c\",\"d\",\"e\",\"f\",\"g\",\"h\",\"i\",\"j\"]\n",
    "    elif col_name in all_ref:\n",
    "        if \"INT\" in type_of.upper():\n",
    "            d[col_name] = [1,1,2,2,3,3,4,4,5,5]\n",
    "        elif \"VARCHAR\" in type_of.upper():\n",
    "            d[col_name] = [\"a\",\"b\",\"c\",\"d\",\"e\",\"a\",\"b\",\"c\",\"d\",\"e\"]\n",
    "    else:\n",
    "        if \"INT\" in type_of.upper():\n",
    "            d[col_name] = range(1,11)\n",
    "        elif \"VARCHAR\" in type_of.upper():\n",
    "            d[col_name] = [\"a\",\"b\",\"c\",\"d\",\"e\",\"f\",\"g\",\"h\",\"i\",\"j\"]\n",
    "        elif \"DATE\" in type_of.upper():\n",
    "            d[col_name] = [\"2000-01-15\",\"2000-01-16\",\"2000-01-17\",\"2000-01-18\",\"2000-01-19\",\"2000-02-15\",\"2000-02-16\",\"2000-02-17\",\"2000-02-18\",\"2000-02-19\"]\n",
    "        else:\n",
    "            d[col_name] = range(1,11)\n",
    "\n",
    "d.to_csv(f\"{a.split(' ')[2]}.csv\", index=False, header=False)"
   ]
  }
 ],
 "metadata": {
  "kernelspec": {
   "display_name": "Python 3",
   "language": "python",
   "name": "python3"
  },
  "language_info": {
   "codemirror_mode": {
    "name": "ipython",
    "version": 3
   },
   "file_extension": ".py",
   "mimetype": "text/x-python",
   "name": "python",
   "nbconvert_exporter": "python",
   "pygments_lexer": "ipython3",
   "version": "3.10.0"
  }
 },
 "nbformat": 4,
 "nbformat_minor": 2
}
